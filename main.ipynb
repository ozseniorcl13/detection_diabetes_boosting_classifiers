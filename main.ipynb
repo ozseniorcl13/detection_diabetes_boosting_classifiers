{
  "nbformat": 4,
  "nbformat_minor": 0,
  "metadata": {
    "kernelspec": {
      "display_name": "Python 3",
      "language": "python",
      "name": "python3"
    },
    "language_info": {
      "codemirror_mode": {
        "name": "ipython",
        "version": 3
      },
      "file_extension": ".py",
      "mimetype": "text/x-python",
      "name": "python",
      "nbconvert_exporter": "python",
      "pygments_lexer": "ipython3",
      "version": "3.8.3"
    },
    "colab": {
      "name": "Cópia de main.ipynb",
      "provenance": [],
      "collapsed_sections": []
    }
  },
  "cells": [
    {
      "cell_type": "markdown",
      "metadata": {
        "id": "SLytANv5azrs"
      },
      "source": [
        "<h1>Código - Artigo ENCOENG 2020</h1> \n",
        "<h2>Classificadores Boosting x Diabetes</h2>\n",
        "<h3>Oziel Senior</h3>"
      ]
    },
    {
      "cell_type": "markdown",
      "metadata": {
        "id": "jLMBTfMVazrt"
      },
      "source": [
        "### Principais bibliotecas "
      ]
    },
    {
      "cell_type": "code",
      "metadata": {
        "id": "I9VfGqyvazru",
        "colab": {
          "base_uri": "https://localhost:8080/"
        },
        "outputId": "a14caab3-d437-4869-f506-e517a2312595"
      },
      "source": [
        "pip install catboost"
      ],
      "execution_count": 1,
      "outputs": [
        {
          "output_type": "stream",
          "name": "stdout",
          "text": [
            "Collecting catboost\n",
            "  Downloading catboost-1.0.4-cp37-none-manylinux1_x86_64.whl (76.1 MB)\n",
            "\u001b[K     |████████████████████████████████| 76.1 MB 1.2 MB/s \n",
            "\u001b[?25hRequirement already satisfied: six in /usr/local/lib/python3.7/dist-packages (from catboost) (1.15.0)\n",
            "Requirement already satisfied: matplotlib in /usr/local/lib/python3.7/dist-packages (from catboost) (3.2.2)\n",
            "Requirement already satisfied: graphviz in /usr/local/lib/python3.7/dist-packages (from catboost) (0.10.1)\n",
            "Requirement already satisfied: numpy>=1.16.0 in /usr/local/lib/python3.7/dist-packages (from catboost) (1.21.5)\n",
            "Requirement already satisfied: plotly in /usr/local/lib/python3.7/dist-packages (from catboost) (5.5.0)\n",
            "Requirement already satisfied: pandas>=0.24.0 in /usr/local/lib/python3.7/dist-packages (from catboost) (1.3.5)\n",
            "Requirement already satisfied: scipy in /usr/local/lib/python3.7/dist-packages (from catboost) (1.4.1)\n",
            "Requirement already satisfied: python-dateutil>=2.7.3 in /usr/local/lib/python3.7/dist-packages (from pandas>=0.24.0->catboost) (2.8.2)\n",
            "Requirement already satisfied: pytz>=2017.3 in /usr/local/lib/python3.7/dist-packages (from pandas>=0.24.0->catboost) (2018.9)\n",
            "Requirement already satisfied: kiwisolver>=1.0.1 in /usr/local/lib/python3.7/dist-packages (from matplotlib->catboost) (1.4.0)\n",
            "Requirement already satisfied: pyparsing!=2.0.4,!=2.1.2,!=2.1.6,>=2.0.1 in /usr/local/lib/python3.7/dist-packages (from matplotlib->catboost) (3.0.7)\n",
            "Requirement already satisfied: cycler>=0.10 in /usr/local/lib/python3.7/dist-packages (from matplotlib->catboost) (0.11.0)\n",
            "Requirement already satisfied: typing-extensions in /usr/local/lib/python3.7/dist-packages (from kiwisolver>=1.0.1->matplotlib->catboost) (3.10.0.2)\n",
            "Requirement already satisfied: tenacity>=6.2.0 in /usr/local/lib/python3.7/dist-packages (from plotly->catboost) (8.0.1)\n",
            "Installing collected packages: catboost\n",
            "Successfully installed catboost-1.0.4\n"
          ]
        }
      ]
    },
    {
      "cell_type": "code",
      "metadata": {
        "id": "46VnldA6bU5b",
        "colab": {
          "base_uri": "https://localhost:8080/"
        },
        "outputId": "dd88e38a-dcb8-451c-b165-90df20c3f3f1"
      },
      "source": [
        "import numpy as np\n",
        "import pandas as pd \n",
        "import statsmodels.api as sm\n",
        "import seaborn as sns\n",
        "import matplotlib.pyplot as plt\n",
        "%matplotlib inline\n",
        "\n",
        "from sklearn.model_selection import KFold\n",
        "from sklearn.preprocessing import RobustScaler\n",
        "from sklearn.preprocessing import MinMaxScaler\n",
        "from sklearn.feature_selection import RFECV\n",
        "import operator\n",
        "import warnings\n",
        "warnings.simplefilter(action = \"ignore\")\n",
        "\n",
        "from sklearn.model_selection import GridSearchCV, cross_val_score\n",
        "from sklearn.metrics import confusion_matrix, accuracy_score, mean_squared_error, r2_score, roc_auc_score, roc_curve, classification_report\n",
        "from sklearn.model_selection import cross_val_predict\n",
        "from sklearn.metrics import precision_recall_curve\n",
        "from sklearn.metrics import auc\n",
        "from sklearn.neighbors import LocalOutlierFactor\n",
        "from scipy import interp\n",
        "from scipy.stats import randint as sp_randint\n",
        "from scipy.stats import uniform as sp_uniform\n",
        "\n",
        "from sklearn.tree import DecisionTreeClassifier\n",
        "from sklearn.ensemble import GradientBoostingClassifier\n",
        "from sklearn.ensemble import AdaBoostClassifier\n",
        "from catboost import CatBoostClassifier\n",
        "from lightgbm import LGBMClassifier\n",
        "import xgboost as xgb"
      ],
      "execution_count": 2,
      "outputs": [
        {
          "output_type": "stream",
          "name": "stderr",
          "text": [
            "/usr/local/lib/python3.7/dist-packages/statsmodels/tools/_testing.py:19: FutureWarning: pandas.util.testing is deprecated. Use the functions in the public API at pandas.testing instead.\n",
            "  import pandas.util.testing as tm\n"
          ]
        }
      ]
    },
    {
      "cell_type": "markdown",
      "metadata": {
        "id": "Ntr1TIlPazrx"
      },
      "source": [
        "### 1. Leitura da Base"
      ]
    },
    {
      "cell_type": "code",
      "metadata": {
        "id": "wFiI3ux1azry"
      },
      "source": [
        "#from google.colab import files\n",
        "#uploaded = files.upload()\n",
        "\n",
        "url = 'https://raw.githubusercontent.com/ozseniorcl13/pima_indians/main/diabetes.csv'\n",
        "\n",
        "df = pd.read_csv(url)"
      ],
      "execution_count": 3,
      "outputs": []
    },
    {
      "cell_type": "markdown",
      "metadata": {
        "id": "yOa0MCRiazr0"
      },
      "source": [
        "### 2. Análise Exploratória de Dados - EDA"
      ]
    },
    {
      "cell_type": "markdown",
      "metadata": {
        "id": "AfgIS5hyazr1"
      },
      "source": [
        "#### 2.1 Estatística descritiva da base"
      ]
    },
    {
      "cell_type": "code",
      "metadata": {
        "id": "U8ZNH-ftazr1",
        "colab": {
          "base_uri": "https://localhost:8080/",
          "height": 206
        },
        "outputId": "6d159a9d-ccb6-4aaf-d9d2-7016cbe3ed9a"
      },
      "source": [
        "df.head()"
      ],
      "execution_count": 4,
      "outputs": [
        {
          "output_type": "execute_result",
          "data": {
            "text/plain": [
              "   Pregnancies  Glucose  BloodPressure  SkinThickness  Insulin   BMI  \\\n",
              "0            6      148             72             35        0  33.6   \n",
              "1            1       85             66             29        0  26.6   \n",
              "2            8      183             64              0        0  23.3   \n",
              "3            1       89             66             23       94  28.1   \n",
              "4            0      137             40             35      168  43.1   \n",
              "\n",
              "   DiabetesPedigreeFunction  Age  Outcome  \n",
              "0                     0.627   50        1  \n",
              "1                     0.351   31        0  \n",
              "2                     0.672   32        1  \n",
              "3                     0.167   21        0  \n",
              "4                     2.288   33        1  "
            ],
            "text/html": [
              "\n",
              "  <div id=\"df-3c294465-e129-4fda-ace4-df80c7ef1850\">\n",
              "    <div class=\"colab-df-container\">\n",
              "      <div>\n",
              "<style scoped>\n",
              "    .dataframe tbody tr th:only-of-type {\n",
              "        vertical-align: middle;\n",
              "    }\n",
              "\n",
              "    .dataframe tbody tr th {\n",
              "        vertical-align: top;\n",
              "    }\n",
              "\n",
              "    .dataframe thead th {\n",
              "        text-align: right;\n",
              "    }\n",
              "</style>\n",
              "<table border=\"1\" class=\"dataframe\">\n",
              "  <thead>\n",
              "    <tr style=\"text-align: right;\">\n",
              "      <th></th>\n",
              "      <th>Pregnancies</th>\n",
              "      <th>Glucose</th>\n",
              "      <th>BloodPressure</th>\n",
              "      <th>SkinThickness</th>\n",
              "      <th>Insulin</th>\n",
              "      <th>BMI</th>\n",
              "      <th>DiabetesPedigreeFunction</th>\n",
              "      <th>Age</th>\n",
              "      <th>Outcome</th>\n",
              "    </tr>\n",
              "  </thead>\n",
              "  <tbody>\n",
              "    <tr>\n",
              "      <th>0</th>\n",
              "      <td>6</td>\n",
              "      <td>148</td>\n",
              "      <td>72</td>\n",
              "      <td>35</td>\n",
              "      <td>0</td>\n",
              "      <td>33.6</td>\n",
              "      <td>0.627</td>\n",
              "      <td>50</td>\n",
              "      <td>1</td>\n",
              "    </tr>\n",
              "    <tr>\n",
              "      <th>1</th>\n",
              "      <td>1</td>\n",
              "      <td>85</td>\n",
              "      <td>66</td>\n",
              "      <td>29</td>\n",
              "      <td>0</td>\n",
              "      <td>26.6</td>\n",
              "      <td>0.351</td>\n",
              "      <td>31</td>\n",
              "      <td>0</td>\n",
              "    </tr>\n",
              "    <tr>\n",
              "      <th>2</th>\n",
              "      <td>8</td>\n",
              "      <td>183</td>\n",
              "      <td>64</td>\n",
              "      <td>0</td>\n",
              "      <td>0</td>\n",
              "      <td>23.3</td>\n",
              "      <td>0.672</td>\n",
              "      <td>32</td>\n",
              "      <td>1</td>\n",
              "    </tr>\n",
              "    <tr>\n",
              "      <th>3</th>\n",
              "      <td>1</td>\n",
              "      <td>89</td>\n",
              "      <td>66</td>\n",
              "      <td>23</td>\n",
              "      <td>94</td>\n",
              "      <td>28.1</td>\n",
              "      <td>0.167</td>\n",
              "      <td>21</td>\n",
              "      <td>0</td>\n",
              "    </tr>\n",
              "    <tr>\n",
              "      <th>4</th>\n",
              "      <td>0</td>\n",
              "      <td>137</td>\n",
              "      <td>40</td>\n",
              "      <td>35</td>\n",
              "      <td>168</td>\n",
              "      <td>43.1</td>\n",
              "      <td>2.288</td>\n",
              "      <td>33</td>\n",
              "      <td>1</td>\n",
              "    </tr>\n",
              "  </tbody>\n",
              "</table>\n",
              "</div>\n",
              "      <button class=\"colab-df-convert\" onclick=\"convertToInteractive('df-3c294465-e129-4fda-ace4-df80c7ef1850')\"\n",
              "              title=\"Convert this dataframe to an interactive table.\"\n",
              "              style=\"display:none;\">\n",
              "        \n",
              "  <svg xmlns=\"http://www.w3.org/2000/svg\" height=\"24px\"viewBox=\"0 0 24 24\"\n",
              "       width=\"24px\">\n",
              "    <path d=\"M0 0h24v24H0V0z\" fill=\"none\"/>\n",
              "    <path d=\"M18.56 5.44l.94 2.06.94-2.06 2.06-.94-2.06-.94-.94-2.06-.94 2.06-2.06.94zm-11 1L8.5 8.5l.94-2.06 2.06-.94-2.06-.94L8.5 2.5l-.94 2.06-2.06.94zm10 10l.94 2.06.94-2.06 2.06-.94-2.06-.94-.94-2.06-.94 2.06-2.06.94z\"/><path d=\"M17.41 7.96l-1.37-1.37c-.4-.4-.92-.59-1.43-.59-.52 0-1.04.2-1.43.59L10.3 9.45l-7.72 7.72c-.78.78-.78 2.05 0 2.83L4 21.41c.39.39.9.59 1.41.59.51 0 1.02-.2 1.41-.59l7.78-7.78 2.81-2.81c.8-.78.8-2.07 0-2.86zM5.41 20L4 18.59l7.72-7.72 1.47 1.35L5.41 20z\"/>\n",
              "  </svg>\n",
              "      </button>\n",
              "      \n",
              "  <style>\n",
              "    .colab-df-container {\n",
              "      display:flex;\n",
              "      flex-wrap:wrap;\n",
              "      gap: 12px;\n",
              "    }\n",
              "\n",
              "    .colab-df-convert {\n",
              "      background-color: #E8F0FE;\n",
              "      border: none;\n",
              "      border-radius: 50%;\n",
              "      cursor: pointer;\n",
              "      display: none;\n",
              "      fill: #1967D2;\n",
              "      height: 32px;\n",
              "      padding: 0 0 0 0;\n",
              "      width: 32px;\n",
              "    }\n",
              "\n",
              "    .colab-df-convert:hover {\n",
              "      background-color: #E2EBFA;\n",
              "      box-shadow: 0px 1px 2px rgba(60, 64, 67, 0.3), 0px 1px 3px 1px rgba(60, 64, 67, 0.15);\n",
              "      fill: #174EA6;\n",
              "    }\n",
              "\n",
              "    [theme=dark] .colab-df-convert {\n",
              "      background-color: #3B4455;\n",
              "      fill: #D2E3FC;\n",
              "    }\n",
              "\n",
              "    [theme=dark] .colab-df-convert:hover {\n",
              "      background-color: #434B5C;\n",
              "      box-shadow: 0px 1px 3px 1px rgba(0, 0, 0, 0.15);\n",
              "      filter: drop-shadow(0px 1px 2px rgba(0, 0, 0, 0.3));\n",
              "      fill: #FFFFFF;\n",
              "    }\n",
              "  </style>\n",
              "\n",
              "      <script>\n",
              "        const buttonEl =\n",
              "          document.querySelector('#df-3c294465-e129-4fda-ace4-df80c7ef1850 button.colab-df-convert');\n",
              "        buttonEl.style.display =\n",
              "          google.colab.kernel.accessAllowed ? 'block' : 'none';\n",
              "\n",
              "        async function convertToInteractive(key) {\n",
              "          const element = document.querySelector('#df-3c294465-e129-4fda-ace4-df80c7ef1850');\n",
              "          const dataTable =\n",
              "            await google.colab.kernel.invokeFunction('convertToInteractive',\n",
              "                                                     [key], {});\n",
              "          if (!dataTable) return;\n",
              "\n",
              "          const docLinkHtml = 'Like what you see? Visit the ' +\n",
              "            '<a target=\"_blank\" href=https://colab.research.google.com/notebooks/data_table.ipynb>data table notebook</a>'\n",
              "            + ' to learn more about interactive tables.';\n",
              "          element.innerHTML = '';\n",
              "          dataTable['output_type'] = 'display_data';\n",
              "          await google.colab.output.renderOutput(dataTable, element);\n",
              "          const docLink = document.createElement('div');\n",
              "          docLink.innerHTML = docLinkHtml;\n",
              "          element.appendChild(docLink);\n",
              "        }\n",
              "      </script>\n",
              "    </div>\n",
              "  </div>\n",
              "  "
            ]
          },
          "metadata": {},
          "execution_count": 4
        }
      ]
    },
    {
      "cell_type": "markdown",
      "metadata": {
        "id": "UIe1ob6iazr4"
      },
      "source": [
        "<p>A base de dados consiste nas variáveis médicas preditoras (independetes) :\n",
        "    <ol>\n",
        "        <li>Pregnancies</li>\n",
        "        <li>Glucose</li>\n",
        "        <li>BloodPressure</li>\n",
        "        <li>SkinThickness</li>\n",
        "        <li>Insulin</li>\n",
        "        <li>DiabetesPedigreeFunction</li>\n",
        "        <li>Age</li>\n",
        "    </ol>\n",
        "    E uma variável <b>Outcome</b> dependente, que indica se o paciente sofre ou não de diabetes\n",
        "</p>"
      ]
    },
    {
      "cell_type": "code",
      "metadata": {
        "id": "5d-H0ijPazr5",
        "colab": {
          "base_uri": "https://localhost:8080/"
        },
        "outputId": "740b3c14-6e15-4252-8ce5-c32256522508"
      },
      "source": [
        "df.info()"
      ],
      "execution_count": 5,
      "outputs": [
        {
          "output_type": "stream",
          "name": "stdout",
          "text": [
            "<class 'pandas.core.frame.DataFrame'>\n",
            "RangeIndex: 768 entries, 0 to 767\n",
            "Data columns (total 9 columns):\n",
            " #   Column                    Non-Null Count  Dtype  \n",
            "---  ------                    --------------  -----  \n",
            " 0   Pregnancies               768 non-null    int64  \n",
            " 1   Glucose                   768 non-null    int64  \n",
            " 2   BloodPressure             768 non-null    int64  \n",
            " 3   SkinThickness             768 non-null    int64  \n",
            " 4   Insulin                   768 non-null    int64  \n",
            " 5   BMI                       768 non-null    float64\n",
            " 6   DiabetesPedigreeFunction  768 non-null    float64\n",
            " 7   Age                       768 non-null    int64  \n",
            " 8   Outcome                   768 non-null    int64  \n",
            "dtypes: float64(2), int64(7)\n",
            "memory usage: 54.1 KB\n"
          ]
        }
      ]
    },
    {
      "cell_type": "markdown",
      "metadata": {
        "id": "Nzru4PHFazr7"
      },
      "source": [
        "<p>Aparentemente a base não demonstra possuir valores faltantes, onde todos seus registros possuem valor preenchido</p>"
      ]
    },
    {
      "cell_type": "code",
      "metadata": {
        "id": "UkXRP6MLazr8",
        "colab": {
          "base_uri": "https://localhost:8080/",
          "height": 332
        },
        "outputId": "162fff0a-8f63-4abd-d9f3-ce2f420e17e1"
      },
      "source": [
        "df.describe().T"
      ],
      "execution_count": 6,
      "outputs": [
        {
          "output_type": "execute_result",
          "data": {
            "text/plain": [
              "                          count        mean         std     min       25%  \\\n",
              "Pregnancies               768.0    3.845052    3.369578   0.000   1.00000   \n",
              "Glucose                   768.0  120.894531   31.972618   0.000  99.00000   \n",
              "BloodPressure             768.0   69.105469   19.355807   0.000  62.00000   \n",
              "SkinThickness             768.0   20.536458   15.952218   0.000   0.00000   \n",
              "Insulin                   768.0   79.799479  115.244002   0.000   0.00000   \n",
              "BMI                       768.0   31.992578    7.884160   0.000  27.30000   \n",
              "DiabetesPedigreeFunction  768.0    0.471876    0.331329   0.078   0.24375   \n",
              "Age                       768.0   33.240885   11.760232  21.000  24.00000   \n",
              "Outcome                   768.0    0.348958    0.476951   0.000   0.00000   \n",
              "\n",
              "                               50%        75%     max  \n",
              "Pregnancies                 3.0000    6.00000   17.00  \n",
              "Glucose                   117.0000  140.25000  199.00  \n",
              "BloodPressure              72.0000   80.00000  122.00  \n",
              "SkinThickness              23.0000   32.00000   99.00  \n",
              "Insulin                    30.5000  127.25000  846.00  \n",
              "BMI                        32.0000   36.60000   67.10  \n",
              "DiabetesPedigreeFunction    0.3725    0.62625    2.42  \n",
              "Age                        29.0000   41.00000   81.00  \n",
              "Outcome                     0.0000    1.00000    1.00  "
            ],
            "text/html": [
              "\n",
              "  <div id=\"df-16b2f731-acc1-4a7c-9c9c-c47bde7df15f\">\n",
              "    <div class=\"colab-df-container\">\n",
              "      <div>\n",
              "<style scoped>\n",
              "    .dataframe tbody tr th:only-of-type {\n",
              "        vertical-align: middle;\n",
              "    }\n",
              "\n",
              "    .dataframe tbody tr th {\n",
              "        vertical-align: top;\n",
              "    }\n",
              "\n",
              "    .dataframe thead th {\n",
              "        text-align: right;\n",
              "    }\n",
              "</style>\n",
              "<table border=\"1\" class=\"dataframe\">\n",
              "  <thead>\n",
              "    <tr style=\"text-align: right;\">\n",
              "      <th></th>\n",
              "      <th>count</th>\n",
              "      <th>mean</th>\n",
              "      <th>std</th>\n",
              "      <th>min</th>\n",
              "      <th>25%</th>\n",
              "      <th>50%</th>\n",
              "      <th>75%</th>\n",
              "      <th>max</th>\n",
              "    </tr>\n",
              "  </thead>\n",
              "  <tbody>\n",
              "    <tr>\n",
              "      <th>Pregnancies</th>\n",
              "      <td>768.0</td>\n",
              "      <td>3.845052</td>\n",
              "      <td>3.369578</td>\n",
              "      <td>0.000</td>\n",
              "      <td>1.00000</td>\n",
              "      <td>3.0000</td>\n",
              "      <td>6.00000</td>\n",
              "      <td>17.00</td>\n",
              "    </tr>\n",
              "    <tr>\n",
              "      <th>Glucose</th>\n",
              "      <td>768.0</td>\n",
              "      <td>120.894531</td>\n",
              "      <td>31.972618</td>\n",
              "      <td>0.000</td>\n",
              "      <td>99.00000</td>\n",
              "      <td>117.0000</td>\n",
              "      <td>140.25000</td>\n",
              "      <td>199.00</td>\n",
              "    </tr>\n",
              "    <tr>\n",
              "      <th>BloodPressure</th>\n",
              "      <td>768.0</td>\n",
              "      <td>69.105469</td>\n",
              "      <td>19.355807</td>\n",
              "      <td>0.000</td>\n",
              "      <td>62.00000</td>\n",
              "      <td>72.0000</td>\n",
              "      <td>80.00000</td>\n",
              "      <td>122.00</td>\n",
              "    </tr>\n",
              "    <tr>\n",
              "      <th>SkinThickness</th>\n",
              "      <td>768.0</td>\n",
              "      <td>20.536458</td>\n",
              "      <td>15.952218</td>\n",
              "      <td>0.000</td>\n",
              "      <td>0.00000</td>\n",
              "      <td>23.0000</td>\n",
              "      <td>32.00000</td>\n",
              "      <td>99.00</td>\n",
              "    </tr>\n",
              "    <tr>\n",
              "      <th>Insulin</th>\n",
              "      <td>768.0</td>\n",
              "      <td>79.799479</td>\n",
              "      <td>115.244002</td>\n",
              "      <td>0.000</td>\n",
              "      <td>0.00000</td>\n",
              "      <td>30.5000</td>\n",
              "      <td>127.25000</td>\n",
              "      <td>846.00</td>\n",
              "    </tr>\n",
              "    <tr>\n",
              "      <th>BMI</th>\n",
              "      <td>768.0</td>\n",
              "      <td>31.992578</td>\n",
              "      <td>7.884160</td>\n",
              "      <td>0.000</td>\n",
              "      <td>27.30000</td>\n",
              "      <td>32.0000</td>\n",
              "      <td>36.60000</td>\n",
              "      <td>67.10</td>\n",
              "    </tr>\n",
              "    <tr>\n",
              "      <th>DiabetesPedigreeFunction</th>\n",
              "      <td>768.0</td>\n",
              "      <td>0.471876</td>\n",
              "      <td>0.331329</td>\n",
              "      <td>0.078</td>\n",
              "      <td>0.24375</td>\n",
              "      <td>0.3725</td>\n",
              "      <td>0.62625</td>\n",
              "      <td>2.42</td>\n",
              "    </tr>\n",
              "    <tr>\n",
              "      <th>Age</th>\n",
              "      <td>768.0</td>\n",
              "      <td>33.240885</td>\n",
              "      <td>11.760232</td>\n",
              "      <td>21.000</td>\n",
              "      <td>24.00000</td>\n",
              "      <td>29.0000</td>\n",
              "      <td>41.00000</td>\n",
              "      <td>81.00</td>\n",
              "    </tr>\n",
              "    <tr>\n",
              "      <th>Outcome</th>\n",
              "      <td>768.0</td>\n",
              "      <td>0.348958</td>\n",
              "      <td>0.476951</td>\n",
              "      <td>0.000</td>\n",
              "      <td>0.00000</td>\n",
              "      <td>0.0000</td>\n",
              "      <td>1.00000</td>\n",
              "      <td>1.00</td>\n",
              "    </tr>\n",
              "  </tbody>\n",
              "</table>\n",
              "</div>\n",
              "      <button class=\"colab-df-convert\" onclick=\"convertToInteractive('df-16b2f731-acc1-4a7c-9c9c-c47bde7df15f')\"\n",
              "              title=\"Convert this dataframe to an interactive table.\"\n",
              "              style=\"display:none;\">\n",
              "        \n",
              "  <svg xmlns=\"http://www.w3.org/2000/svg\" height=\"24px\"viewBox=\"0 0 24 24\"\n",
              "       width=\"24px\">\n",
              "    <path d=\"M0 0h24v24H0V0z\" fill=\"none\"/>\n",
              "    <path d=\"M18.56 5.44l.94 2.06.94-2.06 2.06-.94-2.06-.94-.94-2.06-.94 2.06-2.06.94zm-11 1L8.5 8.5l.94-2.06 2.06-.94-2.06-.94L8.5 2.5l-.94 2.06-2.06.94zm10 10l.94 2.06.94-2.06 2.06-.94-2.06-.94-.94-2.06-.94 2.06-2.06.94z\"/><path d=\"M17.41 7.96l-1.37-1.37c-.4-.4-.92-.59-1.43-.59-.52 0-1.04.2-1.43.59L10.3 9.45l-7.72 7.72c-.78.78-.78 2.05 0 2.83L4 21.41c.39.39.9.59 1.41.59.51 0 1.02-.2 1.41-.59l7.78-7.78 2.81-2.81c.8-.78.8-2.07 0-2.86zM5.41 20L4 18.59l7.72-7.72 1.47 1.35L5.41 20z\"/>\n",
              "  </svg>\n",
              "      </button>\n",
              "      \n",
              "  <style>\n",
              "    .colab-df-container {\n",
              "      display:flex;\n",
              "      flex-wrap:wrap;\n",
              "      gap: 12px;\n",
              "    }\n",
              "\n",
              "    .colab-df-convert {\n",
              "      background-color: #E8F0FE;\n",
              "      border: none;\n",
              "      border-radius: 50%;\n",
              "      cursor: pointer;\n",
              "      display: none;\n",
              "      fill: #1967D2;\n",
              "      height: 32px;\n",
              "      padding: 0 0 0 0;\n",
              "      width: 32px;\n",
              "    }\n",
              "\n",
              "    .colab-df-convert:hover {\n",
              "      background-color: #E2EBFA;\n",
              "      box-shadow: 0px 1px 2px rgba(60, 64, 67, 0.3), 0px 1px 3px 1px rgba(60, 64, 67, 0.15);\n",
              "      fill: #174EA6;\n",
              "    }\n",
              "\n",
              "    [theme=dark] .colab-df-convert {\n",
              "      background-color: #3B4455;\n",
              "      fill: #D2E3FC;\n",
              "    }\n",
              "\n",
              "    [theme=dark] .colab-df-convert:hover {\n",
              "      background-color: #434B5C;\n",
              "      box-shadow: 0px 1px 3px 1px rgba(0, 0, 0, 0.15);\n",
              "      filter: drop-shadow(0px 1px 2px rgba(0, 0, 0, 0.3));\n",
              "      fill: #FFFFFF;\n",
              "    }\n",
              "  </style>\n",
              "\n",
              "      <script>\n",
              "        const buttonEl =\n",
              "          document.querySelector('#df-16b2f731-acc1-4a7c-9c9c-c47bde7df15f button.colab-df-convert');\n",
              "        buttonEl.style.display =\n",
              "          google.colab.kernel.accessAllowed ? 'block' : 'none';\n",
              "\n",
              "        async function convertToInteractive(key) {\n",
              "          const element = document.querySelector('#df-16b2f731-acc1-4a7c-9c9c-c47bde7df15f');\n",
              "          const dataTable =\n",
              "            await google.colab.kernel.invokeFunction('convertToInteractive',\n",
              "                                                     [key], {});\n",
              "          if (!dataTable) return;\n",
              "\n",
              "          const docLinkHtml = 'Like what you see? Visit the ' +\n",
              "            '<a target=\"_blank\" href=https://colab.research.google.com/notebooks/data_table.ipynb>data table notebook</a>'\n",
              "            + ' to learn more about interactive tables.';\n",
              "          element.innerHTML = '';\n",
              "          dataTable['output_type'] = 'display_data';\n",
              "          await google.colab.output.renderOutput(dataTable, element);\n",
              "          const docLink = document.createElement('div');\n",
              "          docLink.innerHTML = docLinkHtml;\n",
              "          element.appendChild(docLink);\n",
              "        }\n",
              "      </script>\n",
              "    </div>\n",
              "  </div>\n",
              "  "
            ]
          },
          "metadata": {},
          "execution_count": 6
        }
      ]
    },
    {
      "cell_type": "markdown",
      "metadata": {
        "id": "1TLNvkCdazr-"
      },
      "source": [
        "<p>É possível verificar que algumas colunas possuem 0 como valor mínimo:\n",
        "    <ol>\n",
        "        <li>Glucose</li>\n",
        "        <li>BloodPressure</li>\n",
        "        <li>SkinThickness</li>\n",
        "        <li>Insulin</li>\n",
        "        <li>BMI</li>\n",
        "    </ol> \n",
        "</p>\n",
        "<p>Essa informações parecem estranhas, o que pode caracterizar uma discrepância nesses dados. Tais questões serão investigadas mais a frente</p>     "
      ]
    },
    {
      "cell_type": "markdown",
      "metadata": {
        "id": "BsBVgjDMazr-"
      },
      "source": [
        "#### 2.2 Visualização dos dados"
      ]
    },
    {
      "cell_type": "code",
      "metadata": {
        "id": "qU3ZTM-Tazr_"
      },
      "source": [
        "def bar_plot():\n",
        "    fig = plt.figure(figsize = (5, 6), dpi = 100)\n",
        "    ax = fig.add_subplot(1, 1, 1)\n",
        "\n",
        "    ax = df.Outcome.value_counts().plot.bar(ax = ax, rot = 0, fontsize = 12, color = (sns.color_palette()[7], sns.color_palette()[1])).set(xticklabels = [\"Saudável\", \"Diabético\"])\n",
        "\n",
        "    plt.suptitle('Quantitativo - Pacientes Saudáveis x Diabéticos', fontsize = 13)\n",
        "    plt.show()"
      ],
      "execution_count": 7,
      "outputs": []
    },
    {
      "cell_type": "code",
      "metadata": {
        "id": "K8wtUsP1azsB"
      },
      "source": [
        "def pie_plot():\n",
        "    fig = plt.figure(figsize = (5, 6), dpi = 100)\n",
        "    ax = fig.add_subplot(1, 1, 1)\n",
        "\n",
        "    ax = fig.add_subplot(111)\n",
        "    ax = df.Outcome.value_counts().plot.pie(labels = (\"Saudável\", \"Diabético\"), autopct = \"%.2f%%\", label = \"\", fontsize = 11, ax = ax,\\\n",
        "    colors = (sns.color_palette()[7], sns.color_palette()[1]), wedgeprops = {\"linewidth\": 1.5, \"edgecolor\": \"#F7F7F7\"}), ax.texts[1].set_color(\"#F7F7F7\"), ax.texts[3].set_color(\"#F7F7F7\")\n",
        "    plt.suptitle('Percentual - Pacientes Saudáveis x Diabéticos', fontsize = 13)\n",
        "    plt.show()"
      ],
      "execution_count": 8,
      "outputs": []
    },
    {
      "cell_type": "code",
      "metadata": {
        "id": "1-bA1luXazsD",
        "colab": {
          "base_uri": "https://localhost:8080/",
          "height": 577
        },
        "outputId": "ee34375c-6d33-4a28-bd7d-7927f29bf137"
      },
      "source": [
        "bar_plot() "
      ],
      "execution_count": 9,
      "outputs": [
        {
          "output_type": "display_data",
          "data": {
            "text/plain": [
              "<Figure size 500x600 with 1 Axes>"
            ],
            "image/png": "[encoded data removed]"
          },
          "metadata": {
            "needs_background": "light"
          }
        }
      ]
    },
    {
      "cell_type": "code",
      "metadata": {
        "id": "9nLz0iTbazsF",
        "colab": {
          "base_uri": "https://localhost:8080/",
          "height": 517
        },
        "outputId": "ff7363fc-1565-4cb1-b32b-84796b54d1d4"
      },
      "source": [
        "pie_plot()"
      ],
      "execution_count": 10,
      "outputs": [
        {
          "output_type": "display_data",
          "data": {
            "text/plain": [
              "<Figure size 500x600 with 1 Axes>"
            ],
            "image/png": "[encoded data removed]"
          },
          "metadata": {}
        }
      ]
    },
    {
      "cell_type": "markdown",
      "metadata": {
        "id": "gnRWzdvJazsH"
      },
      "source": [
        "<p>A partir de análise dos gráficos, é possível perceber: <p>\n",
        "    <ul>\n",
        "        <li>268 dos registros são de pacientes diabéticos</li>\n",
        "        <li>500 dos registros são de pacientes saudáveis</li>\n",
        "    </ul>\n",
        "<p>A base apresenta um certo desbalanceamento em relação a proporção dos dois diferentes tipos de registros. De modo a conduzir os testes, é necessário tomar cuidado com essa característica</p>"
      ]
    },
    {
      "cell_type": "markdown",
      "metadata": {
        "id": "7l_3z59sazsH"
      },
      "source": [
        "#### 2.3 Distribuição dos dados (boxplot)"
      ]
    },
    {
      "cell_type": "markdown",
      "metadata": {
        "id": "02NOv2_nazsI"
      },
      "source": [
        "O boxplot permite visualizar a distribuição dos dados de modo a verifiar mediana, primeiro e terceiro quartil, além de apresentar possívei valores discrepantes (outliers)"
      ]
    },
    {
      "cell_type": "code",
      "metadata": {
        "id": "9sT_o_WWazsK"
      },
      "source": [
        "def box_plot():\n",
        "    f, ax = plt.subplots(figsize = (11, 15))\n",
        "\n",
        "    ax.set_facecolor('#fafafa')\n",
        "    ax.set(xlim = (-0.5, 200))\n",
        "    plt.ylabel('Colunas da base')\n",
        "    plt.title('Visão geral da distribuição dos dados')\n",
        "    ax = sns.boxplot(data = df,\n",
        "                     orient = 'h',\n",
        "                     palette = 'Set1'\n",
        "                    )"
      ],
      "execution_count": 11,
      "outputs": []
    },
    {
      "cell_type": "code",
      "metadata": {
        "id": "ZwzwYX0DazsM",
        "colab": {
          "base_uri": "https://localhost:8080/",
          "height": 879
        },
        "outputId": "31996299-7f5a-4ec3-aed8-3b5e34ec37a4"
      },
      "source": [
        "box_plot()"
      ],
      "execution_count": 12,
      "outputs": [
        {
          "output_type": "display_data",
          "data": {
            "text/plain": [
              "<Figure size 792x1080 with 1 Axes>"
            ],
            "image/png": "[encoded data removed]"
          },
          "metadata": {
            "needs_background": "light"
          }
        }
      ]
    },
    {
      "cell_type": "markdown",
      "metadata": {
        "id": "peUEi7D4azsO"
      },
      "source": [
        "#### 2.4 Investigação de missing values"
      ]
    },
    {
      "cell_type": "markdown",
      "metadata": {
        "id": "kKvptWHZazsP"
      },
      "source": [
        "<p> Como visto anteriomente, alguns valores possuem valores discrepantes, isto é, 0 em colunas que não podem ter esse valor <p>\n",
        "<p> Isto pode caracterizar missing value que precisará ser identificado e tratado </p>"
      ]
    },
    {
      "cell_type": "code",
      "metadata": {
        "id": "QlL7DbUrazsQ"
      },
      "source": [
        "columns = ['Glucose', 'BloodPressure', 'SkinThickness', 'Insulin', 'BMI']\n",
        "\n",
        "for col in columns:\n",
        "    df[col].replace(0, np.NaN, inplace = True)"
      ],
      "execution_count": 13,
      "outputs": []
    },
    {
      "cell_type": "code",
      "metadata": {
        "id": "3_Gco59VazsS",
        "colab": {
          "base_uri": "https://localhost:8080/"
        },
        "outputId": "1e32bd08-401d-484b-b669-ec600263c861"
      },
      "source": [
        "df.isnull().sum()"
      ],
      "execution_count": 14,
      "outputs": [
        {
          "output_type": "execute_result",
          "data": {
            "text/plain": [
              "Pregnancies                   0\n",
              "Glucose                       5\n",
              "BloodPressure                35\n",
              "SkinThickness               227\n",
              "Insulin                     374\n",
              "BMI                          11\n",
              "DiabetesPedigreeFunction      0\n",
              "Age                           0\n",
              "Outcome                       0\n",
              "dtype: int64"
            ]
          },
          "metadata": {},
          "execution_count": 14
        }
      ]
    },
    {
      "cell_type": "markdown",
      "metadata": {
        "id": "vUXhiNIhazsU"
      },
      "source": [
        "<p>É possível verificar o grande número de missing values em 5 colunas: </p>\n",
        "    <ul> \n",
        "        <li>Glucose - 5</li>\n",
        "        <li>BloodPressure - 35 </li>\n",
        "        <li>SkinThickness - 227</li>\n",
        "        <li>Insulin - 374</li>\n",
        "        <li>BMI - 11</li>\n",
        "    </ul>\n",
        "    \n",
        "<p>Como existem muitos registros que possuem valores discrepantes, torna-se necessário tratar estes valores antes de fazer a aplicação da rede neural</p>"
      ]
    },
    {
      "cell_type": "markdown",
      "metadata": {
        "id": "6gIVQ50aazsU"
      },
      "source": [
        "#### 2.5 Preenchendo missing values"
      ]
    },
    {
      "cell_type": "markdown",
      "metadata": {
        "id": "3oILYjVOazsV"
      },
      "source": [
        "<p>\n",
        "    Nesse trabalho, abordagem utilizada para preencher os missing values será a imputação simples.\n",
        "    O raciocíneo para fazer esse preenchimento segue a seguinte ideia:\n",
        "</p>\n",
        "<p>\n",
        "    Para uma coluna X de um registro, calcular duas medianas de X: mediana dos registros pertecentes ao grupo Saudável e mediana dos registros pertecentes ao grupo diabético.\n",
        "    Depois de se obter as medianas dos dois grupos, preencher missing com mediana de acordo com o grupo do registro com missing value.\n",
        "<p>\n",
        "<p>\n",
        "    Ex: <br>\n",
        "    Pressão Sanguínea <br>\n",
        "    Mediana grupo saudável:    10/60 <br>\n",
        "    Mediana grupo diabético: 13/90 <br>\n",
        "    \n",
        "Registro do grupo diabético recebe 13/90 para preencher sua coluna Pressao Sanguínea(BloodPressure)\n",
        "</p>"
      ]
    },
    {
      "cell_type": "code",
      "metadata": {
        "id": "RPMB2GrzazsV"
      },
      "source": [
        "def medians_col(col):   \n",
        "    temp = df[df[col].notnull()]\n",
        "    temp = df[[col, 'Outcome']].groupby(['Outcome'])[[col]].median()\n",
        "    return temp"
      ],
      "execution_count": 15,
      "outputs": []
    },
    {
      "cell_type": "code",
      "metadata": {
        "id": "XX6s0e5BazsX",
        "colab": {
          "base_uri": "https://localhost:8080/"
        },
        "outputId": "e615b72a-be69-46a7-b396-60c9c36b5b8c"
      },
      "source": [
        "for col in columns:\n",
        "    print(medians_col(col))"
      ],
      "execution_count": 16,
      "outputs": [
        {
          "output_type": "stream",
          "name": "stdout",
          "text": [
            "         Glucose\n",
            "Outcome         \n",
            "0          107.0\n",
            "1          140.0\n",
            "         BloodPressure\n",
            "Outcome               \n",
            "0                 70.0\n",
            "1                 74.5\n",
            "         SkinThickness\n",
            "Outcome               \n",
            "0                 27.0\n",
            "1                 32.0\n",
            "         Insulin\n",
            "Outcome         \n",
            "0          102.5\n",
            "1          169.5\n",
            "          BMI\n",
            "Outcome      \n",
            "0        30.1\n",
            "1        34.3\n"
          ]
        }
      ]
    },
    {
      "cell_type": "markdown",
      "metadata": {
        "id": "51R7P-JFazsZ"
      },
      "source": [
        "<p>Medianas conforme coluna e tipo de registro:</p>\n",
        "<table>\n",
        "    <tr>\n",
        "        <td>Glicose</td>>\n",
        "        <td>107 para pacientes saudáveis</td>\n",
        "        <td>140 para pacientes diabéticos</td>\n",
        "    </tr>\n",
        "    <tr>\n",
        "        <td>Pressão Sanguínea</td>>\n",
        "        <td>70 para pacientes saudáveis</td>\n",
        "        <td>74.5 para pacientes diabéticos</td>\n",
        "    </tr>\n",
        "    <tr>\n",
        "        <td>Dobra da pele</td>>\n",
        "        <td>27 para pacientes saudáveis</td>\n",
        "        <td>32 para pacientes diabéticos</td>\n",
        "    </tr>\n",
        "    <tr>\n",
        "        <td>Insulina</td>>\n",
        "        <td>102.5 para pacientes saudáveis</td>\n",
        "        <td>169.5 para pacientes diabéticos</td>\n",
        "    </tr>\n",
        "    <tr>\n",
        "        <td>IMC</td>>\n",
        "        <td>30.1 para pacientes saudáveis</td>\n",
        "        <td>34.3 para pacientes diabéticos</td>\n",
        "    </tr>\n",
        "</table>"
      ]
    },
    {
      "cell_type": "code",
      "metadata": {
        "id": "qN64D-DOazsZ"
      },
      "source": [
        "for col in columns:\n",
        "    median_health = medians_col(col)[col][0]\n",
        "    median_diabetic = medians_col(col)[col][1]\n",
        "    df.loc[(df['Outcome'] == 0) & (df[col].isnull()), col] = median_health\n",
        "    df.loc[(df['Outcome'] == 1) & (df[col].isnull()), col] = median_diabetic"
      ],
      "execution_count": 17,
      "outputs": []
    },
    {
      "cell_type": "code",
      "metadata": {
        "id": "dLVVIXGzazsb",
        "colab": {
          "base_uri": "https://localhost:8080/"
        },
        "outputId": "98d1e4fe-fd45-44d1-aab6-3ba0af045517"
      },
      "source": [
        "df.isnull().sum()"
      ],
      "execution_count": 18,
      "outputs": [
        {
          "output_type": "execute_result",
          "data": {
            "text/plain": [
              "Pregnancies                 0\n",
              "Glucose                     0\n",
              "BloodPressure               0\n",
              "SkinThickness               0\n",
              "Insulin                     0\n",
              "BMI                         0\n",
              "DiabetesPedigreeFunction    0\n",
              "Age                         0\n",
              "Outcome                     0\n",
              "dtype: int64"
            ]
          },
          "metadata": {},
          "execution_count": 18
        }
      ]
    },
    {
      "cell_type": "markdown",
      "metadata": {
        "id": "fBpRCOEIazsd"
      },
      "source": [
        "#### 2.6 Proucura por outliers"
      ]
    },
    {
      "cell_type": "markdown",
      "metadata": {
        "id": "5rAQCbl6azsd"
      },
      "source": [
        "<p>Como os algoritmos que serão testados podem ter seu desempenho comprometido\n",
        "pela presença de Outliers nos dados, será feita uma busca por colunas que apresentem\n",
        "valores discrepantes (outliers).\n",
        "</p>"
      ]
    },
    {
      "cell_type": "code",
      "metadata": {
        "id": "5qR1Goymazse"
      },
      "source": [
        "def search_cols_outliers():\n",
        "    for col in df.select_dtypes(include = ['float', 'int']):\n",
        "        q1 = df[col].quantile(0.05)\n",
        "        q3 = df[col].quantile(0.95)\n",
        "        i = q3 - q1\n",
        "        \n",
        "        lim_max = q3 + 1.5 * i\n",
        "        lim_min = q1 - 1.5 * i\n",
        "        \n",
        "        if df[(df[col] > lim_max)].any(axis = None):\n",
        "            print(col, 'outiler')"
      ],
      "execution_count": 19,
      "outputs": []
    },
    {
      "cell_type": "code",
      "metadata": {
        "id": "x3DWgIb4azsf",
        "colab": {
          "base_uri": "https://localhost:8080/"
        },
        "outputId": "a80c5fcb-8285-4d4f-c231-a41677ccec84"
      },
      "source": [
        "search_cols_outliers()"
      ],
      "execution_count": 20,
      "outputs": [
        {
          "output_type": "stream",
          "name": "stdout",
          "text": [
            "SkinThickness outiler\n",
            "Insulin outiler\n"
          ]
        }
      ]
    },
    {
      "cell_type": "markdown",
      "metadata": {
        "id": "3Uhll8HJazsh"
      },
      "source": [
        "<p>A primeiro momento, é possível verificar que as colunas SkinThickness e Insulin possuem valores\n",
        "discrepantes e precisam ser tratadas.</p>"
      ]
    },
    {
      "cell_type": "markdown",
      "metadata": {
        "id": "G_8xRc3Jazsh"
      },
      "source": [
        "<p>\n",
        "A abordagem para tentar diminuir o número de outliers será de substituí-los pelo valor do limite máximo  e mínimo de forma a ter uma distribuição mais normal nos dados da coluna\n",
        "</p>"
      ]
    },
    {
      "cell_type": "code",
      "metadata": {
        "id": "ru5JtZY6azsi"
      },
      "source": [
        "col_outliers = ['Insulin', 'SkinThickness']\n",
        "for col in col_outliers:\n",
        "    q1 = df[col].quantile(0.05)\n",
        "    q3 = df[col].quantile(0.95)\n",
        "    i = q3 - q1\n",
        "\n",
        "    lim_max = q3 + 1.5 * i\n",
        "    lim_min = q1 - 1.5 * i\n",
        "    \n",
        "    df.loc[df[col] > lim_max, col] = lim_max\n",
        "    df.loc[df[col] < lim_min, col] = lim_min"
      ],
      "execution_count": 21,
      "outputs": []
    },
    {
      "cell_type": "markdown",
      "metadata": {
        "id": "JgFYl-riazsj"
      },
      "source": [
        "<p>Após amenizar os desvios na distribuição das colunas Insulin e SkinThickness, será utilizado\n",
        "o algoritmo LOF (Local Outlier Factor).</p>\n",
        "<p>O LOF considera a densidade de um ponto p (registro) e a densidade (resto da base) de seus k-vizinhos gerando no final um fator ou grau de anomalia para cada registro. Quanto maior o grau, maior a chance do registro ser um outlier.\n",
        "</p>"
      ]
    },
    {
      "cell_type": "code",
      "metadata": {
        "id": "m7zHGH3fazsk"
      },
      "source": [
        "lof = LocalOutlierFactor(n_neighbors = 20)\n",
        "\n",
        "y_pred = lof.fit_predict(df)\n",
        "df_scores = lof.negative_outlier_factor_\n",
        "np.sort(df_scores)\n",
        "\n",
        "threshold = np.sort(df_scores)[8]"
      ],
      "execution_count": 22,
      "outputs": []
    },
    {
      "cell_type": "code",
      "metadata": {
        "id": "p7eau5Fqazsn",
        "colab": {
          "base_uri": "https://localhost:8080/"
        },
        "outputId": "b08b2f53-f17d-425a-d5b7-59e8c92aaf0a"
      },
      "source": [
        "df_scores = lof.negative_outlier_factor_\n",
        "np.sort(df_scores)[0:30]"
      ],
      "execution_count": 23,
      "outputs": [
        {
          "output_type": "execute_result",
          "data": {
            "text/plain": [
              "array([-2.53962794, -2.47311403, -2.3029262 , -2.01224601, -1.87179524,\n",
              "       -1.79510701, -1.79016565, -1.73291587, -1.73036284, -1.71069014,\n",
              "       -1.69480987, -1.67337946, -1.66442466, -1.65622435, -1.64098802,\n",
              "       -1.62785005, -1.56687416, -1.56530855, -1.53974319, -1.53818437,\n",
              "       -1.52934553, -1.52753616, -1.51902536, -1.50229042, -1.49579659,\n",
              "       -1.48561171, -1.48431992, -1.47179041, -1.4695407 , -1.46694203])"
            ]
          },
          "metadata": {},
          "execution_count": 23
        }
      ]
    },
    {
      "cell_type": "code",
      "metadata": {
        "id": "aS-4_-oOazsp"
      },
      "source": [
        "threshold = np.sort(df_scores)[8]"
      ],
      "execution_count": 24,
      "outputs": []
    },
    {
      "cell_type": "code",
      "metadata": {
        "id": "uAxWh_zAazsr",
        "colab": {
          "base_uri": "https://localhost:8080/"
        },
        "outputId": "5746aaf4-46b3-4680-fb50-75f587f3d8ba"
      },
      "source": [
        "threshold"
      ],
      "execution_count": 25,
      "outputs": [
        {
          "output_type": "execute_result",
          "data": {
            "text/plain": [
              "-1.7303628392576187"
            ]
          },
          "metadata": {},
          "execution_count": 25
        }
      ]
    },
    {
      "cell_type": "code",
      "metadata": {
        "id": "krlqxEx9azst"
      },
      "source": [
        "df = df[df_scores > threshold]"
      ],
      "execution_count": 26,
      "outputs": []
    },
    {
      "cell_type": "code",
      "metadata": {
        "id": "-rIJsM7fazsu",
        "colab": {
          "base_uri": "https://localhost:8080/"
        },
        "outputId": "8dcd6814-9791-4eb6-9003-b2f5a05a21ba"
      },
      "source": [
        "df.shape"
      ],
      "execution_count": 27,
      "outputs": [
        {
          "output_type": "execute_result",
          "data": {
            "text/plain": [
              "(759, 9)"
            ]
          },
          "metadata": {},
          "execution_count": 27
        }
      ]
    },
    {
      "cell_type": "markdown",
      "metadata": {
        "id": "2WpEugtrazsw"
      },
      "source": [
        "## 3. Pré-processamento"
      ]
    },
    {
      "cell_type": "markdown",
      "metadata": {
        "id": "gk3AZMqaazsx"
      },
      "source": [
        "#### 3.1 Separação de dados de treino e teste"
      ]
    },
    {
      "cell_type": "code",
      "metadata": {
        "id": "S7go6WKZazsx"
      },
      "source": [
        "y = df['Outcome']\n",
        "X = df.drop([\"Outcome\"], axis = 1)\n",
        "cols = X.columns\n",
        "index = X.index"
      ],
      "execution_count": 28,
      "outputs": []
    },
    {
      "cell_type": "markdown",
      "metadata": {
        "id": "mvfPvOx7azsz"
      },
      "source": [
        "#### 3.2 Aplicação do MinMaxScaler"
      ]
    },
    {
      "cell_type": "code",
      "metadata": {
        "id": "waMSOUfRazsz"
      },
      "source": [
        "min_max_scaler = MinMaxScaler()\n",
        "X = min_max_scaler.fit_transform(X)\n",
        "X = pd.DataFrame(X, columns = cols, index = index)"
      ],
      "execution_count": 29,
      "outputs": []
    },
    {
      "cell_type": "markdown",
      "metadata": {
        "id": "adpIGTMwazs1"
      },
      "source": [
        "### 4. Treinamento e validação usando K-Fold Cross Validation (K = 5)"
      ]
    },
    {
      "cell_type": "code",
      "metadata": {
        "id": "ifvT0XUGazs2"
      },
      "source": [
        "models = []\n",
        "\n",
        "models.append(('GBM', GradientBoostingClassifier()))\n",
        "models.append(('AdaBoost', AdaBoostClassifier()))\n",
        "models.append(('CatBoost', CatBoostClassifier(verbose = False)))\n",
        "models.append(('LGBM', LGBMClassifier()))"
      ],
      "execution_count": 30,
      "outputs": []
    },
    {
      "cell_type": "code",
      "metadata": {
        "id": "7iGBvk2Qazs4",
        "colab": {
          "base_uri": "https://localhost:8080/"
        },
        "outputId": "a57b986e-e811-47ed-cce7-bf04d3ab22c5"
      },
      "source": [
        "results = []\n",
        "names = []\n",
        "\n",
        "for name, model in models:\n",
        "    cv_results = cross_val_score(model, X, y, cv = 5, scoring = 'accuracy')\n",
        "    results.append(cv_results)\n",
        "    names.append(name)\n",
        "    msg = \"%s: Acurácia de %f com Desvio Padrão de (%f)\" % (name, cv_results.mean(), cv_results.std())\n",
        "    print(msg)"
      ],
      "execution_count": 31,
      "outputs": [
        {
          "output_type": "stream",
          "name": "stdout",
          "text": [
            "GBM: Acurácia de 0.895931 com Desvio Padrão de (0.012646)\n",
            "AdaBoost: Acurácia de 0.869589 com Desvio Padrão de (0.016163)\n",
            "CatBoost: Acurácia de 0.884071 com Desvio Padrão de (0.016868)\n",
            "LGBM: Acurácia de 0.890685 com Desvio Padrão de (0.022498)\n"
          ]
        }
      ]
    },
    {
      "cell_type": "markdown",
      "metadata": {
        "id": "929n2LW2azs7"
      },
      "source": [
        "<p>A acurácia de classificação pelos algoritmos baseado em Boosting para pacientes diabéticos e não diabéticos aparenta ser promissora comparada a outras abordagens clássicas encontradas na literatura</p>"
      ]
    },
    {
      "cell_type": "markdown",
      "metadata": {
        "id": "gJQIFEfKazs8"
      },
      "source": [
        "### 5. Refinamento de hiperparâmetros"
      ]
    },
    {
      "cell_type": "markdown",
      "metadata": {
        "id": "tarH-PjNazs8"
      },
      "source": [
        "<p>De modo a melhorar os resultados será utilizado a técnica GridSearch para encontrar os melhores hiperparâmetros de cada algoritmo</p>"
      ]
    },
    {
      "cell_type": "markdown",
      "metadata": {
        "id": "XDpVrKJfazs9"
      },
      "source": [
        "#### 5.1 Gradient Boost Classifier"
      ]
    },
    {
      "cell_type": "code",
      "metadata": {
        "id": "SqCEn7kTazs9",
        "colab": {
          "base_uri": "https://localhost:8080/",
          "height": 54
        },
        "outputId": "0b3a5943-96ee-47c4-ee09-84b5e3c82c21"
      },
      "source": [
        "'''\n",
        "gbm = GradientBoostingClassifier(random_state = 13)\n",
        "\n",
        "'''\n",
        "{'learning_rate': 0.1,\n",
        " 'max_depth': 4,\n",
        " 'min_samples_split': 10,\n",
        " 'n_estimators': 170,\n",
        " 'subsample': 1.0}\n",
        "'''\n",
        "\n",
        "params = {\n",
        "    \"n_estimators\": np.arange(10, 500, 10),\n",
        "    \"subsample\": [0.6, 0.8, 1.0],\n",
        "    \"max_depth\": [3, 4, 5],\n",
        "    \"learning_rate\": [0.1, 0.001, 0.005],\n",
        "    \"min_samples_split\": [2, 5, 10]\n",
        "}\n",
        "\n",
        "gbm_grid = GridSearchCV(\n",
        "                gbm,\n",
        "                params,\n",
        "                cv = 5,\n",
        "                n_jobs = -1,\n",
        "                verbose = 2\n",
        ").fit(X, y)\n",
        "'''"
      ],
      "execution_count": 32,
      "outputs": [
        {
          "output_type": "execute_result",
          "data": {
            "text/plain": [
              "'\\n\\nparams = {\\n    \"n_estimators\": np.arange(10, 500, 10),\\n    \"subsample\": [0.6, 0.8, 1.0],\\n    \"max_depth\": [3, 4, 5],\\n    \"learning_rate\": [0.1, 0.001, 0.005],\\n    \"min_samples_split\": [2, 5, 10]\\n}\\n\\ngbm_grid = GridSearchCV(\\n                gbm,\\n                params,\\n                cv = 5,\\n                n_jobs = -1,\\n                verbose = 2\\n).fit(X, y)\\n'"
            ],
            "application/vnd.google.colaboratory.intrinsic+json": {
              "type": "string"
            }
          },
          "metadata": {},
          "execution_count": 32
        }
      ]
    },
    {
      "cell_type": "code",
      "metadata": {
        "id": "w4aXLAyTazs_"
      },
      "source": [
        "# gbm_grid.best_params_"
      ],
      "execution_count": 33,
      "outputs": []
    },
    {
      "cell_type": "code",
      "metadata": {
        "id": "YxFFI3AwLFe9"
      },
      "source": [
        "gbm_best = {\n",
        "  'learning_rate': 0.1,\n",
        "  'max_depth': 4,\n",
        "  'min_samples_split': 10,\n",
        "  'n_estimators': 170,\n",
        "  'subsample': 1.0\n",
        " }"
      ],
      "execution_count": 34,
      "outputs": []
    },
    {
      "cell_type": "code",
      "metadata": {
        "id": "p_t3VK40LL-L"
      },
      "source": [
        "gbm_tuned = GradientBoostingClassifier(**gbm_best)"
      ],
      "execution_count": 35,
      "outputs": []
    },
    {
      "cell_type": "code",
      "metadata": {
        "id": "KBZcw8rcLR9O",
        "colab": {
          "base_uri": "https://localhost:8080/"
        },
        "outputId": "912c5cd1-0b16-4ba6-f989-d2078e77c3e5"
      },
      "source": [
        "cross_val_score(gbm_tuned, X, y, cv = 5).mean()"
      ],
      "execution_count": 36,
      "outputs": [
        {
          "output_type": "execute_result",
          "data": {
            "text/plain": [
              "0.9025357267340539"
            ]
          },
          "metadata": {},
          "execution_count": 36
        }
      ]
    },
    {
      "cell_type": "code",
      "metadata": {
        "id": "SO54XNidaztA"
      },
      "source": [
        "# gbm_tuned = GradientBoostingClassifier(**gbm_grid.best_params_)"
      ],
      "execution_count": 37,
      "outputs": []
    },
    {
      "cell_type": "code",
      "metadata": {
        "id": "OqCWCuQvaztC"
      },
      "source": [
        "# cross_val_score(gbm_tuned, X, y, cv = 5).mean()"
      ],
      "execution_count": 38,
      "outputs": []
    },
    {
      "cell_type": "markdown",
      "metadata": {
        "id": "vai9Jt9DaztE"
      },
      "source": [
        "#### 5.2 AdaBoost"
      ]
    },
    {
      "cell_type": "code",
      "metadata": {
        "id": "0i6EoI9IaztE",
        "colab": {
          "base_uri": "https://localhost:8080/"
        },
        "outputId": "fcbd6c1e-ab8b-461e-e33b-50fe5b7a74ed"
      },
      "source": [
        "adboost = AdaBoostClassifier(random_state = 123)\n",
        "\n",
        "# dict_keys(['algorithm', 'base_estimator', \n",
        "# 'learning_rate', 'n_estimators', 'random_state'])\n",
        "\n",
        "adboost.get_params().keys()\n",
        "\n",
        "params = {\n",
        "    \"n_estimators\": np.arange(10, 500, 10),\n",
        "    \"learning_rate\": [0.03, 0.001, 0.01, 0.1, 0.2, 0.3]\n",
        "}\n",
        "\n",
        "adboost_grid = GridSearchCV(\n",
        "                  adboost,\n",
        "                  params,\n",
        "                  cv = 5,\n",
        "                  n_jobs = -1,\n",
        "                  verbose = 2\n",
        ").fit(X, y)"
      ],
      "execution_count": 39,
      "outputs": [
        {
          "output_type": "stream",
          "name": "stdout",
          "text": [
            "Fitting 5 folds for each of 294 candidates, totalling 1470 fits\n"
          ]
        }
      ]
    },
    {
      "cell_type": "code",
      "metadata": {
        "id": "NjDW2w3yaztG"
      },
      "source": [
        "# adboost_grid.best_params_"
      ],
      "execution_count": 40,
      "outputs": []
    },
    {
      "cell_type": "code",
      "metadata": {
        "id": "NVO-WI6kx2Y5"
      },
      "source": [
        "ada_best = {'learning_rate': 0.3, 'n_estimators': 450}"
      ],
      "execution_count": 41,
      "outputs": []
    },
    {
      "cell_type": "code",
      "metadata": {
        "id": "GGuW6i1faztJ"
      },
      "source": [
        "adboost_tuned = AdaBoostClassifier(**ada_best)"
      ],
      "execution_count": 42,
      "outputs": []
    },
    {
      "cell_type": "code",
      "metadata": {
        "id": "1IIwVqUjaztL",
        "colab": {
          "base_uri": "https://localhost:8080/"
        },
        "outputId": "ff249c15-e68f-4067-8ac9-eeda26033e6e"
      },
      "source": [
        "cross_val_score(adboost_tuned, X, y, cv = 5).mean()"
      ],
      "execution_count": 43,
      "outputs": [
        {
          "output_type": "execute_result",
          "data": {
            "text/plain": [
              "0.8827814569536423"
            ]
          },
          "metadata": {},
          "execution_count": 43
        }
      ]
    },
    {
      "cell_type": "markdown",
      "metadata": {
        "id": "N-2eAnQkaztN"
      },
      "source": [
        "#### 5.3 CatBoost "
      ]
    },
    {
      "cell_type": "code",
      "metadata": {
        "id": "iu-EpEV-aztN",
        "colab": {
          "base_uri": "https://localhost:8080/",
          "height": 72
        },
        "outputId": "fd781d59-8b74-4fc3-9c89-5939cfd6fcaa"
      },
      "source": [
        "'''\n",
        "cat_boost = CatBoostClassifier(random_state = 13, verbose = 0)\n",
        "\n",
        "params = {\n",
        "    \"iterations\": np.arange(10, 100, 10),\n",
        "    \"depth\": [1, 2, 3, 4, 5, 6, 7, 8, 9, 10],\n",
        "    \"learning_rate\": [0.03, 0.001, 0.01, 0.1, 0.2, 0.3],\n",
        "    \"l2_leaf_reg\": [3, 1, 5, 10, 100],\n",
        "    \"loss_function\": ['LogLoss', 'CrossEntropy'],\n",
        "    \"border_count\": [32, 5, 10, 20, 50, 100, 200],\n",
        "}\n",
        "\n",
        "cb_grid = GridSearchCV(\n",
        "                cat_boost,\n",
        "                params,\n",
        "                cv = 5,\n",
        "                n_jobs = -1,\n",
        "                verbose = 2\n",
        ").fit(X, y)\n",
        "\n",
        "'''\n",
        "\n"
      ],
      "execution_count": 44,
      "outputs": [
        {
          "output_type": "execute_result",
          "data": {
            "text/plain": [
              "'\\ncat_boost = CatBoostClassifier(random_state = 13, verbose = 0)\\n\\nparams = {\\n    \"iterations\": np.arange(10, 100, 10),\\n    \"depth\": [1, 2, 3, 4, 5, 6, 7, 8, 9, 10],\\n    \"learning_rate\": [0.03, 0.001, 0.01, 0.1, 0.2, 0.3],\\n    \"l2_leaf_reg\": [3, 1, 5, 10, 100],\\n    \"loss_function\": [\\'LogLoss\\', \\'CrossEntropy\\'],\\n    \"border_count\": [32, 5, 10, 20, 50, 100, 200],\\n}\\n\\ncb_grid = GridSearchCV(\\n                cat_boost,\\n                params,\\n                cv = 5,\\n                n_jobs = -1,\\n                verbose = 2\\n).fit(X, y)\\n\\n'"
            ],
            "application/vnd.google.colaboratory.intrinsic+json": {
              "type": "string"
            }
          },
          "metadata": {},
          "execution_count": 44
        }
      ]
    },
    {
      "cell_type": "code",
      "metadata": {
        "id": "Fpt8kWBGaztP"
      },
      "source": [
        "# cb_grid.best_params_"
      ],
      "execution_count": 45,
      "outputs": []
    },
    {
      "cell_type": "code",
      "metadata": {
        "id": "325btyxqy0q7"
      },
      "source": [
        "cb_best = {\n",
        "  'border_count': 200,\n",
        "  'depth': 7,\n",
        "  'iterations': 50,\n",
        "  'l2_leaf_reg': 1,\n",
        "  'learning_rate': 0.2,\n",
        "  'loss_function': 'CrossEntropy'\n",
        " }"
      ],
      "execution_count": 46,
      "outputs": []
    },
    {
      "cell_type": "code",
      "metadata": {
        "id": "sRb3n3K6aztQ"
      },
      "source": [
        "cb_tuned = CatBoostClassifier(**cb_best, verbose = 0)"
      ],
      "execution_count": 47,
      "outputs": []
    },
    {
      "cell_type": "code",
      "metadata": {
        "id": "raeeyr-WaztS",
        "colab": {
          "base_uri": "https://localhost:8080/"
        },
        "outputId": "29e585d6-3298-4ca5-be8a-37934b406cc8"
      },
      "source": [
        "cross_val_score(cb_tuned, X, y, cv = 5).mean()"
      ],
      "execution_count": 48,
      "outputs": [
        {
          "output_type": "execute_result",
          "data": {
            "text/plain": [
              "0.8853781805507145"
            ]
          },
          "metadata": {},
          "execution_count": 48
        }
      ]
    },
    {
      "cell_type": "markdown",
      "metadata": {
        "id": "vnWcQOa2aztT"
      },
      "source": [
        "#### 5.4 LGBM"
      ]
    },
    {
      "cell_type": "code",
      "metadata": {
        "id": "ayAHJ2HPaztT",
        "colab": {
          "base_uri": "https://localhost:8080/"
        },
        "outputId": "66680c72-f0e9-47b3-c338-f20c9f7937ca"
      },
      "source": [
        "lgbm = LGBMClassifier(random_state = 13)\n",
        "\n",
        "params = {\n",
        "    \"num_leaf\": [3, 5, 8, 10, 12],\n",
        "    'num_leaves': np.arange(1, 50, 10),\n",
        "    \"learning_rate\": [0.03, 0.001, 0.01, 0.1, 0.2, 0.3],\n",
        "    \"n_estimators\": np.arange(10, 100, 10),\n",
        "    'max_depth': [-1, 1, 2, 3, 4, 5, 6, 7]\n",
        "}\n",
        "\n",
        "lgbm_grid = GridSearchCV(\n",
        "                lgbm,\n",
        "                params,\n",
        "                cv = 5,\n",
        "                n_jobs = -1,\n",
        "                verbose = 2\n",
        ").fit(X, y)"
      ],
      "execution_count": 49,
      "outputs": [
        {
          "output_type": "stream",
          "name": "stdout",
          "text": [
            "Fitting 5 folds for each of 10800 candidates, totalling 54000 fits\n"
          ]
        }
      ]
    },
    {
      "cell_type": "code",
      "metadata": {
        "id": "DoLVrEwzaztV",
        "colab": {
          "base_uri": "https://localhost:8080/"
        },
        "outputId": "9c798a64-965d-4cc5-c442-8ff5116b7a54"
      },
      "source": [
        "lgbm_grid.best_params_"
      ],
      "execution_count": 50,
      "outputs": [
        {
          "output_type": "execute_result",
          "data": {
            "text/plain": [
              "{'learning_rate': 0.03,\n",
              " 'max_depth': 5,\n",
              " 'n_estimators': 60,\n",
              " 'num_leaf': 3,\n",
              " 'num_leaves': 11}"
            ]
          },
          "metadata": {},
          "execution_count": 50
        }
      ]
    },
    {
      "cell_type": "code",
      "metadata": {
        "id": "n0g5BMxpaztX"
      },
      "source": [
        "lgbm_tuned = LGBMClassifier(**lgbm_grid.best_params_)"
      ],
      "execution_count": 51,
      "outputs": []
    },
    {
      "cell_type": "code",
      "metadata": {
        "id": "IHd74nPTaztY",
        "colab": {
          "base_uri": "https://localhost:8080/"
        },
        "outputId": "49620f0d-edfa-4311-ac58-a805159f4958"
      },
      "source": [
        "cross_val_score(lgbm_tuned, X, y, cv = 5).mean()"
      ],
      "execution_count": 52,
      "outputs": [
        {
          "output_type": "execute_result",
          "data": {
            "text/plain": [
              "0.9077988846287905"
            ]
          },
          "metadata": {},
          "execution_count": 52
        }
      ]
    },
    {
      "cell_type": "markdown",
      "metadata": {
        "id": "FUkPoqyJazta"
      },
      "source": [
        "### 6. Avaliação dos resultados"
      ]
    },
    {
      "cell_type": "markdown",
      "metadata": {
        "id": "Wejcd406azta"
      },
      "source": [
        "<p>\n",
        "Métricas para avaliação: Acurácia, Precisão, Recall, F1, Curva ROC, Matriz de confusão \n",
        "</p>"
      ]
    },
    {
      "cell_type": "code",
      "metadata": {
        "id": "I-Jflq4Naztb"
      },
      "source": [
        "def scores_table(model, title):\n",
        "    scores = ['accuracy', 'precision', 'recall', 'f1']\n",
        "    res = []\n",
        "    for sc in scores:\n",
        "        scores = cross_val_score(model, X, y, cv = 5, scoring = sc)\n",
        "        res.append(scores)\n",
        "        \n",
        "    df = pd.DataFrame(res).T\n",
        "    df.loc['Média'] = df.mean()\n",
        "    df.loc['Std'] = df.std()\n",
        "    df = df.rename(columns={0: 'Acurácia', 1:'Precisão', 2:'Recall', 3:'F1'})\n",
        "\n",
        "    print(df)\n",
        "\n",
        "    cell_text = np.round(df.values, 3)\n",
        "    row_labels = df.index\n",
        "    col_labels = df.columns\n",
        "\n",
        "    fig = plt.figure(dpi = 100)\n",
        "    ax = fig.add_subplot(1, 1, 1)\n",
        "    \n",
        "    table = ax.table(cellText = cell_text, rowLabels = row_labels, colLabels = col_labels, loc = 'center right')\n",
        "    table.set_fontsize(12)\n",
        "    plt.suptitle(title)\n",
        "    ax.axis('off')\n",
        "    plt.show()"
      ],
      "execution_count": 53,
      "outputs": []
    },
    {
      "cell_type": "code",
      "metadata": {
        "id": "ol-Tok3wazte"
      },
      "source": [
        "def show_confusion_matrix(model):\n",
        "    y_pred = cross_val_predict(model, X, y, cv = 5)\n",
        "\n",
        "    conf_matrix = confusion_matrix(y, y_pred)\n",
        "    \n",
        "    group_names = ['Verd Pos', 'Verd Nega', 'Falso Pos', 'Falso Nega']\n",
        "    group_counts = [\"{0:0.0f}\".format(value) for value in conf_matrix.flatten()]\n",
        "    group_percentages = [\"{0:.2%}\".format(value) for value in conf_matrix.flatten()/np.sum(conf_matrix)]\n",
        "    \n",
        "    categories = ['Saudável', 'Diabético']\n",
        "    \n",
        "    labels = [f\"{v1}\\n{v2}\\n{v3}\" for v1, v2, v3 in\n",
        "             zip(group_names,group_counts,group_percentages)]\n",
        "    labels = np.asarray(labels).reshape(2, 2)\n",
        "    \n",
        "    sns.heatmap(conf_matrix, xticklabels = categories, yticklabels = categories, annot = labels, fmt = '', cmap = 'binary')"
      ],
      "execution_count": 54,
      "outputs": []
    },
    {
      "cell_type": "code",
      "metadata": {
        "id": "7Gv_DgP1aztf"
      },
      "source": [
        "def show_roc_curve(model, title):\n",
        "    cv = KFold(n_splits=5,shuffle=False, random_state = 42)\n",
        "    y_real = []\n",
        "    y_proba = []\n",
        "    tprs = []\n",
        "    aucs = []\n",
        "    mean_fpr = np.linspace(0,1,100)\n",
        "    i = 1\n",
        "    \n",
        "    for train,test in cv.split(X,y):\n",
        "        model.fit(X.iloc[train], y.iloc[train])\n",
        "        pred_proba = model.predict_proba(X.iloc[test])\n",
        "        precision, recall, _ = precision_recall_curve(y.iloc[test], pred_proba[:,1])\n",
        "        y_real.append(y.iloc[test])\n",
        "        y_proba.append(pred_proba[:,1])\n",
        "        fpr, tpr, t = roc_curve(y.iloc[test], pred_proba[:, 1])\n",
        "        tprs.append(interp(mean_fpr, fpr, tpr))\n",
        "        roc_auc = auc(fpr, tpr)\n",
        "        aucs.append(roc_auc)\n",
        "    \n",
        "    mean_tpr = np.mean(tprs, axis = 0)\n",
        "    mean_auc = auc(mean_fpr, mean_tpr)\n",
        "    \n",
        "    plt.figure(dpi = 100)\n",
        "    plt.title(title)\n",
        "    plt.plot(mean_fpr, mean_tpr, color = 'darkorange', lw = 2, label = 'AUC = %0.3f' % roc_auc)\n",
        "    plt.legend(loc = 'lower right')\n",
        "    plt.plot([0, 1], [0, 1], 'r--')\n",
        "    plt.xlim([0, 1])\n",
        "    plt.ylim([0, 1.05])\n",
        "    plt.ylabel('Taxa Verdadeiro Positivo')\n",
        "    plt.xlabel('Taxa Falso Positivo')\n",
        "    plt.show()"
      ],
      "execution_count": 55,
      "outputs": []
    },
    {
      "cell_type": "markdown",
      "metadata": {
        "id": "mBSUc2EZaztg"
      },
      "source": [
        "#### 6.1 GBM"
      ]
    },
    {
      "cell_type": "code",
      "metadata": {
        "id": "wtymCCSDazth",
        "colab": {
          "base_uri": "https://localhost:8080/",
          "height": 525
        },
        "outputId": "06a133b9-b486-4651-ba30-9593f869adc7"
      },
      "source": [
        "scores_table(gbm_tuned, 'Resultados do classificador GBM')"
      ],
      "execution_count": 56,
      "outputs": [
        {
          "output_type": "stream",
          "name": "stdout",
          "text": [
            "       Acurácia  Precisão    Recall        F1\n",
            "0      0.881579  0.875000  0.792453  0.823529\n",
            "1      0.868421  0.800000  0.849057  0.814815\n",
            "2      0.914474  0.916667  0.849057  0.871287\n",
            "3      0.914474  0.916667  0.830189  0.860000\n",
            "4      0.940397  0.901961  0.884615  0.893204\n",
            "Média  0.903869  0.882059  0.841074  0.852567\n",
            "Std    0.025740  0.043761  0.030019  0.029412\n"
          ]
        },
        {
          "output_type": "display_data",
          "data": {
            "text/plain": [
              "<Figure size 600x400 with 1 Axes>"
            ],
            "image/png": "[encoded data removed]"
          },
          "metadata": {
            "needs_background": "light"
          }
        }
      ]
    },
    {
      "cell_type": "code",
      "metadata": {
        "id": "Kt0NeF-_azti",
        "colab": {
          "base_uri": "https://localhost:8080/",
          "height": 265
        },
        "outputId": "26dd1656-f21d-4639-cfa6-c0e4b2d9c8aa"
      },
      "source": [
        "show_confusion_matrix(gbm_tuned)"
      ],
      "execution_count": 57,
      "outputs": [
        {
          "output_type": "display_data",
          "data": {
            "text/plain": [
              "<Figure size 432x288 with 2 Axes>"
            ],
            "image/png": "[encoded data removed]"
          },
          "metadata": {
            "needs_background": "light"
          }
        }
      ]
    },
    {
      "cell_type": "code",
      "metadata": {
        "id": "WIsDasvyaztj"
      },
      "source": [
        "# show_roc_curve(gbm_tuned, 'Curva ROC XBG')"
      ],
      "execution_count": 58,
      "outputs": []
    },
    {
      "cell_type": "markdown",
      "metadata": {
        "id": "l5zh1Z9ZnF9e"
      },
      "source": [
        "#### 6.2 AdaBoost"
      ]
    },
    {
      "cell_type": "code",
      "metadata": {
        "id": "AsaBYVkSnF9f",
        "colab": {
          "base_uri": "https://localhost:8080/",
          "height": 525
        },
        "outputId": "a22293a6-6a7c-48c2-ecc9-d74324f75b59"
      },
      "source": [
        "scores_table(adboost_tuned, 'Resultados do classificador AdaBoost')"
      ],
      "execution_count": 59,
      "outputs": [
        {
          "output_type": "stream",
          "name": "stdout",
          "text": [
            "       Acurácia  Precisão    Recall        F1\n",
            "0      0.888158  0.875000  0.792453  0.831683\n",
            "1      0.861842  0.807692  0.792453  0.800000\n",
            "2      0.881579  0.843137  0.811321  0.826923\n",
            "3      0.868421  0.851064  0.754717  0.800000\n",
            "4      0.913907  0.882353  0.865385  0.873786\n",
            "Média  0.882781  0.851849  0.803266  0.826479\n",
            "Std    0.018132  0.026430  0.036096  0.027083\n"
          ]
        },
        {
          "output_type": "display_data",
          "data": {
            "text/plain": [
              "<Figure size 600x400 with 1 Axes>"
            ],
            "image/png": "[encoded data removed]"
          },
          "metadata": {
            "needs_background": "light"
          }
        }
      ]
    },
    {
      "cell_type": "code",
      "metadata": {
        "id": "MrWxEH5znF9i",
        "colab": {
          "base_uri": "https://localhost:8080/",
          "height": 265
        },
        "outputId": "6c513b96-28b5-41b0-fce7-ab248bea31df"
      },
      "source": [
        "show_confusion_matrix(adboost_tuned)"
      ],
      "execution_count": 60,
      "outputs": [
        {
          "output_type": "display_data",
          "data": {
            "text/plain": [
              "<Figure size 432x288 with 2 Axes>"
            ],
            "image/png": "[encoded data removed]"
          },
          "metadata": {
            "needs_background": "light"
          }
        }
      ]
    },
    {
      "cell_type": "code",
      "metadata": {
        "id": "V8lP07f3nF9m"
      },
      "source": [
        "# show_roc_curve(adboost_tuned, 'Curva ROC AdaBoost')"
      ],
      "execution_count": 61,
      "outputs": []
    },
    {
      "cell_type": "markdown",
      "metadata": {
        "id": "1deXnIfynuo4"
      },
      "source": [
        "#### 6.3 CatBoost"
      ]
    },
    {
      "cell_type": "code",
      "metadata": {
        "id": "6CxbQQghnuo-",
        "colab": {
          "base_uri": "https://localhost:8080/",
          "height": 525
        },
        "outputId": "ab039801-2120-4bcf-a0fa-2fcde8420e44"
      },
      "source": [
        "scores_table(cb_tuned, 'Resultados do classificador CatBoost')"
      ],
      "execution_count": 62,
      "outputs": [
        {
          "output_type": "stream",
          "name": "stdout",
          "text": [
            "       Acurácia  Precisão    Recall        F1\n",
            "0      0.881579  0.843137  0.811321  0.826923\n",
            "1      0.868421  0.800000  0.830189  0.814815\n",
            "2      0.881579  0.888889  0.754717  0.816327\n",
            "3      0.907895  0.882353  0.849057  0.865385\n",
            "4      0.887417  0.830189  0.846154  0.838095\n",
            "Média  0.885378  0.848914  0.818287  0.832309\n",
            "Std    0.012865  0.033144  0.034510  0.018536\n"
          ]
        },
        {
          "output_type": "display_data",
          "data": {
            "text/plain": [
              "<Figure size 600x400 with 1 Axes>"
            ],
            "image/png": "[encoded data removed]"
          },
          "metadata": {
            "needs_background": "light"
          }
        }
      ]
    },
    {
      "cell_type": "code",
      "metadata": {
        "id": "90_Ig0fMnupJ",
        "colab": {
          "base_uri": "https://localhost:8080/",
          "height": 266
        },
        "outputId": "1982dfd5-8ca7-4d44-d740-fa99e34a5baa"
      },
      "source": [
        "show_confusion_matrix(cb_tuned)"
      ],
      "execution_count": 63,
      "outputs": [
        {
          "output_type": "display_data",
          "data": {
            "text/plain": [
              "<Figure size 432x288 with 2 Axes>"
            ],
            "image/png": "[encoded data removed]"
          },
          "metadata": {
            "needs_background": "light"
          }
        }
      ]
    },
    {
      "cell_type": "code",
      "metadata": {
        "id": "WkToCJ1onupQ"
      },
      "source": [
        "# show_roc_curve(cb_tuned, 'Curva ROC CatBoost')"
      ],
      "execution_count": 64,
      "outputs": []
    },
    {
      "cell_type": "markdown",
      "metadata": {
        "id": "EWEl4WE8oqhc"
      },
      "source": [
        "#### 6.4 LighGBM"
      ]
    },
    {
      "cell_type": "code",
      "metadata": {
        "id": "Ki7ao0Akoqhe",
        "colab": {
          "base_uri": "https://localhost:8080/",
          "height": 525
        },
        "outputId": "55768bb8-f568-471f-abe4-4710abc1718a"
      },
      "source": [
        "scores_table(lgbm_tuned, 'Resultados do classificador CatBoost')"
      ],
      "execution_count": 65,
      "outputs": [
        {
          "output_type": "stream",
          "name": "stdout",
          "text": [
            "       Acurácia  Precisão    Recall        F1\n",
            "0      0.914474  0.900000  0.849057  0.873786\n",
            "1      0.861842  0.785714  0.830189  0.807339\n",
            "2      0.907895  0.933333  0.792453  0.857143\n",
            "3      0.927632  0.937500  0.849057  0.891089\n",
            "4      0.927152  0.901961  0.884615  0.893204\n",
            "Média  0.907799  0.891702  0.841074  0.864512\n",
            "Std    0.024185  0.055205  0.030019  0.031428\n"
          ]
        },
        {
          "output_type": "display_data",
          "data": {
            "text/plain": [
              "<Figure size 600x400 with 1 Axes>"
            ],
            "image/png": "[encoded data removed]"
          },
          "metadata": {
            "needs_background": "light"
          }
        }
      ]
    },
    {
      "cell_type": "code",
      "metadata": {
        "id": "tRiTGlWGoqhi",
        "colab": {
          "base_uri": "https://localhost:8080/",
          "height": 265
        },
        "outputId": "ef6405b5-29a3-4547-84f3-b939076b8bea"
      },
      "source": [
        "show_confusion_matrix(lgbm_tuned)"
      ],
      "execution_count": 66,
      "outputs": [
        {
          "output_type": "display_data",
          "data": {
            "text/plain": [
              "<Figure size 432x288 with 2 Axes>"
            ],
            "image/png": "[encoded data removed]"
          },
          "metadata": {
            "needs_background": "light"
          }
        }
      ]
    },
    {
      "cell_type": "code",
      "metadata": {
        "id": "8befQIdBoqhk"
      },
      "source": [
        "# show_roc_curve(lgbm_tuned, 'Curva ROC CatBoost')"
      ],
      "execution_count": 67,
      "outputs": []
    }
  ]
}